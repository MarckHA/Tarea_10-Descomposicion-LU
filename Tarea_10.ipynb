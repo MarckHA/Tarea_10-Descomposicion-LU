{
 "cells": [
  {
   "cell_type": "raw",
   "id": "19688f00-a612-4d37-af20-2248b76a52db",
   "metadata": {},
   "source": [
    "---\n",
    "lang: es\n",
    "format: \n",
    "  pdf: \n",
    "    cite-method: biblatex\n",
    "    number-sections: false\n",
    "    lof: false\n",
    "    lot: false\n",
    "    fontfamily: fontenc\n",
    "    font-type: ptm\n",
    "    colorlinks: true\n",
    "    pagestyle: empty\n",
    "    geometry: \"left=3cm, right=2cm, top=2cm, bottom=2cm, marginparwidth=2cm\"\n",
    "    documentclass: article\n",
    "    header-includes:\n",
    "      - \\usepackage{titling}\n",
    "      - \\setlength{\\droptitle}{-5em}\n",
    "execute:\n",
    "    echo: true\n",
    "    error: false\n",
    "    warning: false\n",
    "jupyter: python3\n",
    "bibliography: ref.bib\n",
    "link-citations: true\n",
    "---"
   ]
  },
  {
   "cell_type": "markdown",
   "id": "c8584a78-4081-4f95-95de-139a7b3474df",
   "metadata": {},
   "source": [
    "## Tarea 10 - Descomposición LU "
   ]
  },
  {
   "cell_type": "code",
   "execution_count": 3,
   "id": "5c25cc28-f342-4a47-b141-0a25afe9ec42",
   "metadata": {
    "tags": []
   },
   "outputs": [],
   "source": [
    "%load_ext autoreload\n",
    "import numpy as np\n",
    "from src import multiplicar_matrices, descomposicion_LU, resolver_LU\n",
    "from src import eliminacion_gaussiana_L,eliminacion_gaussiana_U, determinante, inversa"
   ]
  },
  {
   "cell_type": "markdown",
   "id": "06d5fa20-aa02-4577-84ba-34db0bce12a3",
   "metadata": {},
   "source": [
    "### Conjunto de Ejercicios"
   ]
  },
  {
   "cell_type": "markdown",
   "id": "a838b90d-6c76-45ad-958b-c11d5389d6fc",
   "metadata": {},
   "source": [
    "1. Realice las siguientes multiplicaciones matriz-matriz:\n"
   ]
  },
  {
   "cell_type": "markdown",
   "id": "ff68cfc1-1007-4fba-9223-5563ad7840b2",
   "metadata": {},
   "source": [
    "\\textbf{a. }\n",
    "\\begin{equation*}\n",
    "    \\begin{bmatrix}\n",
    "    2 & -3 \\\\\n",
    "    3 & -1 \n",
    "    \\end{bmatrix}\n",
    "    \\begin{bmatrix}\n",
    "    1 & 5 \\\\\n",
    "    2 & 0 \n",
    "    \\end{bmatrix}\n",
    "\\end{equation*}\n"
   ]
  },
  {
   "cell_type": "code",
   "execution_count": 7,
   "id": "6241d955-28ec-49ac-94c2-28b330d4db74",
   "metadata": {
    "tags": []
   },
   "outputs": [
    {
     "name": "stdout",
     "output_type": "stream",
     "text": [
      "El resultado de la multiplicación es: \n",
      " [[-4 10]\n",
      " [ 1 15]]\n"
     ]
    }
   ],
   "source": [
    "%autoreload 2\n",
    "A = np.array([[2,-3],[3,-1]])\n",
    "B = np.array([[1,5],[2,0]])\n",
    "C = multiplicar_matrices(A,B)\n",
    "print(\"El resultado de la multiplicación es: \\n\",C)"
   ]
  },
  {
   "cell_type": "markdown",
   "id": "896f17e0-a419-4649-88a0-adf71506172b",
   "metadata": {},
   "source": [
    "\\textbf{b. } \n",
    "\\begin{equation*}\n",
    "    \\begin{bmatrix}\n",
    "    2 & -3 \\\\\n",
    "    3 & -1 \n",
    "    \\end{bmatrix}\n",
    "    \\begin{bmatrix}\n",
    "    1 & 5 & -4\\\\\n",
    "    -3 & 2 & 0\n",
    "    \\end{bmatrix}\n",
    "\\end{equation*}\n"
   ]
  },
  {
   "cell_type": "code",
   "execution_count": 9,
   "id": "174803de-31b2-4718-8723-92bae595d9b9",
   "metadata": {
    "tags": []
   },
   "outputs": [
    {
     "name": "stdout",
     "output_type": "stream",
     "text": [
      "El resultado de la multiplicación es: \n",
      " [[ 11   4  -8]\n",
      " [  6  13 -12]]\n"
     ]
    }
   ],
   "source": [
    "%autoreload 2\n",
    "A = np.array([[2,-3],[3,-1]])\n",
    "B = np.array([[1,5,-4],[-3,2,0]])\n",
    "C = multiplicar_matrices(A,B)\n",
    "print(\"El resultado de la multiplicación es: \\n\",C)"
   ]
  },
  {
   "cell_type": "markdown",
   "id": "e4b1196d-510c-47cf-9f26-1f09efc80770",
   "metadata": {},
   "source": [
    "\\textbf{c. }\n",
    "\n",
    "\\begin{equation*}\n",
    "    \\begin{bmatrix}\n",
    "    2 & -3 & 1\\\\\n",
    "    4 & 3 & 0\\\\\n",
    "    5 & 2 & -4\n",
    "    \\end{bmatrix}\n",
    "    \\begin{bmatrix}\n",
    "    0 & 1 & -2\\\\\n",
    "    1 & 0 & -1\\\\\n",
    "    2 & 3 & -2\n",
    "    \\end{bmatrix}\n",
    "\\end{equation*}\n",
    "    "
   ]
  },
  {
   "cell_type": "code",
   "execution_count": 11,
   "id": "6bf812dc-0ab7-482e-a5b4-ce365b9f3777",
   "metadata": {
    "tags": []
   },
   "outputs": [
    {
     "name": "stdout",
     "output_type": "stream",
     "text": [
      "El resultado de la multiplicación es: \n",
      " [[ -1   5  -3]\n",
      " [  3   4 -11]\n",
      " [ -6  -7  -4]]\n"
     ]
    }
   ],
   "source": [
    "%autoreload 2\n",
    "A = np.array([[2,-3,1],[4,3,0],[5,2,-4]])\n",
    "B = np.array([[0,1,-2],[1,0,-1],[2,3,-2]])\n",
    "C = multiplicar_matrices(A,B)\n",
    "print(\"El resultado de la multiplicación es: \\n\",C)"
   ]
  },
  {
   "cell_type": "markdown",
   "id": "ad9589d8-d500-439b-ab4e-bbb5c0af50c0",
   "metadata": {},
   "source": [
    "\\textbf{d. }\n",
    "\\begin{equation*}\n",
    "    \\begin{bmatrix}\n",
    "    2 & 1 & 2\\\\\n",
    "    -2 & 3 & 0\\\\\n",
    "    2 & -1 & 3\n",
    "    \\end{bmatrix}\n",
    "    \\begin{bmatrix}\n",
    "    1 & -2 \\\\\n",
    "    -4 & 1 \\\\\n",
    "    0 & 2\n",
    "    \\end{bmatrix}\n",
    "\\end{equation*}\n"
   ]
  },
  {
   "cell_type": "code",
   "execution_count": 13,
   "id": "447ba0d2-663e-4a7c-96d8-737b9e98f5b6",
   "metadata": {
    "tags": []
   },
   "outputs": [
    {
     "name": "stdout",
     "output_type": "stream",
     "text": [
      "El resultado de la multiplicación es: \n",
      " [[ -2   1]\n",
      " [-14   7]\n",
      " [  6   1]]\n"
     ]
    }
   ],
   "source": [
    "%autoreload 2\n",
    "A = np.array([[2,1,2],[-2,3,0],[2,-1,3]])\n",
    "B = np.array([[1,-2],[-4,1],[0,2]])\n",
    "C = multiplicar_matrices(A,B)\n",
    "print(\"El resultado de la multiplicación es: \\n\",C)"
   ]
  },
  {
   "cell_type": "markdown",
   "id": "2469c920-0865-4e5e-88a4-894db0dd52ea",
   "metadata": {},
   "source": [
    "2. Determine cuáles de las siguientes matrices son no singulares y calcule la inversa de esas matrices:"
   ]
  },
  {
   "cell_type": "markdown",
   "id": "accd820e-7123-4d93-a464-3b83efe141c8",
   "metadata": {},
   "source": [
    "\\textbf{a. }\n",
    "\\begin{equation*}\n",
    "    \\begin{bmatrix}\n",
    "    4 & 2 & 6\\\\\n",
    "    3 & 0 & 7\\\\\n",
    "    -2 & -1 & -3\n",
    "    \\end{bmatrix}\n",
    "\\end{equation*}\n",
    "\n"
   ]
  },
  {
   "cell_type": "code",
   "execution_count": 16,
   "id": "823f98ef-2032-4f56-af8a-bb3e50ce93f0",
   "metadata": {
    "tags": []
   },
   "outputs": [
    {
     "name": "stdout",
     "output_type": "stream",
     "text": [
      "El determinante es: 0 \n",
      "Por tanto, la matriz es singular y no posee inversa\n"
     ]
    }
   ],
   "source": [
    "%autoreload 2\n",
    "A = np.array([[4,2,6],[3,0,7],[-2,-1,-3]])\n",
    "det = determinante(A)\n",
    "if(det==0):\n",
    "    print(\"El determinante es:\",det, \"\\nPor tanto, la matriz es singular y no posee inversa\")\n",
    "else:\n",
    "    inv = inversa(A)\n",
    "    print(\"El determinante es:\",det, \"\\nSu matriz inversa es la siguiente:\", inv)"
   ]
  },
  {
   "cell_type": "markdown",
   "id": "a9b9cdcf-a01f-4544-8851-d7c159678bef",
   "metadata": {},
   "source": [
    "\\textbf{b. }\n",
    "\n",
    "\\begin{equation*}\n",
    "    \\begin{bmatrix}\n",
    "    1 & 2 & 0\\\\\n",
    "    2 & 1 & -1\\\\\n",
    "    3 & 1 & 1\n",
    "    \\end{bmatrix}\n",
    "\\end{equation*}\n"
   ]
  },
  {
   "cell_type": "code",
   "execution_count": 18,
   "id": "8a4ae2e0-160a-4f4e-a025-b25d91d59bfb",
   "metadata": {
    "tags": []
   },
   "outputs": [
    {
     "name": "stdout",
     "output_type": "stream",
     "text": [
      "El determinante es: -7.999999999999999 \n",
      "Su matriz inversa es la siguiente:\n",
      " [[-0.25   0.25   0.25 ]\n",
      " [ 0.625 -0.125 -0.125]\n",
      " [ 0.125 -0.625  0.375]]\n"
     ]
    }
   ],
   "source": [
    "%autoreload 2\n",
    "A = np.array([[1,2,0],[2,1,-1],[3,1,1]])\n",
    "det = determinante(A)\n",
    "if(det==0):\n",
    "    print(\"El determinante es:\",det, \"\\nPor tanto, la matriz es singular y no posee inversa\")\n",
    "else:\n",
    "    inv = inversa(A)\n",
    "    print(\"El determinante es:\",det, \"\\nSu matriz inversa es la siguiente:\\n\", inv)"
   ]
  },
  {
   "cell_type": "markdown",
   "id": "3227767c-e6a3-46c0-a636-d3f220b88673",
   "metadata": {},
   "source": [
    "\\textbf{c. }\n",
    "\\begin{equation*}\n",
    "    \\begin{bmatrix}\n",
    "    1 & 1 & -1 & 1\\\\\n",
    "    1 & 2 & -4 & -2\\\\\n",
    "    2 & 1 & 1 & 5 \\\\\n",
    "    -1 & 0 & -2 & -4\n",
    "    \\end{bmatrix}\n",
    "\\end{equation*}\n"
   ]
  },
  {
   "cell_type": "code",
   "execution_count": 20,
   "id": "e25231d8-020f-4d7b-9fb7-09b5add74c11",
   "metadata": {
    "tags": []
   },
   "outputs": [
    {
     "name": "stdout",
     "output_type": "stream",
     "text": [
      "El determinante es: 0 \n",
      "Por tanto, la matriz es singular y no posee inversa\n"
     ]
    }
   ],
   "source": [
    "%autoreload 2\n",
    "A = np.array([[1,1,-1,1],[1,2,-4,-2],[2,1,1,5],[-1,0,-2,-4]])\n",
    "det = determinante(A)\n",
    "if(det==0):\n",
    "    print(\"El determinante es:\",det, \"\\nPor tanto, la matriz es singular y no posee inversa\")\n",
    "else:\n",
    "    inv = inversa(A)\n",
    "    print(\"El determinante es:\",det, \"\\nSu matriz inversa es la siguiente:\", inv)"
   ]
  },
  {
   "cell_type": "markdown",
   "id": "53caec97-287a-4781-9eec-b5bc8e551f8e",
   "metadata": {},
   "source": [
    "\\textbf{d. }\n",
    "\\begin{equation*}\n",
    "    \\begin{bmatrix}\n",
    "    4 & 0 & 0 & 0\\\\\n",
    "    6 & 7 & 0 & 0\\\\\n",
    "    9 & 11 & 1 & 0\\\\\n",
    "    5 & 4 & 1 & 1\n",
    "    \\end{bmatrix}\n",
    "\\end{equation*}\n"
   ]
  },
  {
   "cell_type": "code",
   "execution_count": 22,
   "id": "d9d0b18b-3d32-46e0-ae5e-3fcd62a48cae",
   "metadata": {
    "tags": []
   },
   "outputs": [
    {
     "name": "stdout",
     "output_type": "stream",
     "text": [
      "El determinante es: 27.999999999999993 \n",
      "Su matriz inversa es la siguiente:\n",
      " [[ 0.25        0.          0.          0.        ]\n",
      " [-0.21428571  0.14285714  0.          0.        ]\n",
      " [ 0.10714286 -1.57142857  1.          0.        ]\n",
      " [-0.5         1.         -1.          1.        ]]\n"
     ]
    }
   ],
   "source": [
    "%autoreload 2\n",
    "A = np.array([[4,0,0,0],[6,7,0,0],[9,11,1,0],[5,4,1,1]])\n",
    "det = determinante(A)\n",
    "if(det==0):\n",
    "    print(\"El determinante es:\",det, \"\\nPor tanto, la matriz es singular y no posee inversa\")\n",
    "else:\n",
    "    inv = inversa(A)\n",
    "    print(\"El determinante es:\",det, \"\\nSu matriz inversa es la siguiente:\\n\", inv)"
   ]
  },
  {
   "cell_type": "markdown",
   "id": "17d49c51-088a-4191-98fb-8fb457eb4246",
   "metadata": {},
   "source": [
    "3. Resuelva los sistemas lineales 4 x 4 que tienen la misma matriz de coeficientes:\n"
   ]
  },
  {
   "cell_type": "markdown",
   "id": "11c7f7a2-0c5c-4e91-9f29-dac53a645971",
   "metadata": {},
   "source": [
    "\\begin{eqnarray*} x_1-x_2+2x_3-x_4 = 6, \\hspace{1cm} x_1-x_2+2x_3-x_4 =1, \\\\ x_1 \\hspace{1.15cm}-x_3+x_4 = 4, \\hspace{1cm} x_1\\hspace{1.15cm} -x_3+x_4 = 1, \\\\ 2x_1+x_2+3x_3-4x_4 = -2, \\hspace{0.6cm} 2x_1+x_2+3x_3-4x_4 = 2, \\\\\n",
    "   -x_2+x_3-x_4 = 5, \\hspace{1.7cm} -x_2+x_3-x_4 = -1,\n",
    "\\end{eqnarray*}\n",
    "\n",
    "Ya que ambos sistemas poseen la misma matriz de coeficientes \n",
    "\\begin{equation*}\n",
    "    A =\n",
    "    \\begin{bmatrix}\n",
    "    1 & -1 & 2 & -1\\\\\n",
    "    1 & 0 & -1 & 1\\\\\n",
    "    2 & 1 & 3 &-4\\\\\n",
    "    0 & -1 & 1 & -1\n",
    "    \\end{bmatrix}\n",
    "\\end{equation*}\n",
    "primero realizaré la descomposición LU para usarla posteriormente para resolver cada sistema. "
   ]
  },
  {
   "cell_type": "code",
   "execution_count": 25,
   "id": "82cec800-c3f6-4e65-8f3a-0f5c5016188a",
   "metadata": {
    "tags": []
   },
   "outputs": [
    {
     "name": "stdout",
     "output_type": "stream",
     "text": [
      "Matriz L:\n",
      " [[ 1.    0.    0.    0.  ]\n",
      " [ 1.    1.    0.    0.  ]\n",
      " [ 2.    3.    1.    0.  ]\n",
      " [ 0.   -1.   -0.25  1.  ]]\n",
      "Matriz U:\n",
      " [[ 1. -1.  2. -1.]\n",
      " [ 0.  1. -3.  2.]\n",
      " [ 0.  0.  8. -8.]\n",
      " [ 0.  0.  0. -1.]]\n"
     ]
    }
   ],
   "source": [
    "%autoreload 2\n",
    "A = [[1,-1,2,-1],[1,0,-1,1],[2,1,3,-4],[0,-1,1,-1]]\n",
    "L,U = descomposicion_LU(A)\n",
    "print(\"Matriz L:\\n\",L)\n",
    "print(\"Matriz U:\\n\",U)"
   ]
  },
  {
   "cell_type": "code",
   "execution_count": 26,
   "id": "cd93535c-d6a8-4878-b05f-ae1513c87c5a",
   "metadata": {
    "tags": []
   },
   "outputs": [
    {
     "name": "stdout",
     "output_type": "stream",
     "text": [
      "Calculando y\n",
      "y\n",
      "[ 6. -2. -8.  1.]\n",
      "Verificación Ly=b:\n",
      "[ 6.  4. -2.  5.]\n",
      "Calculando x\n",
      "x\n",
      "[ 3. -6. -2. -1.]\n",
      "Verificación Ux=y:\n",
      "[ 6. -2. -8.  1.]\n"
     ]
    }
   ],
   "source": [
    "%autoreload 2\n",
    "b_1 = [6,4,-2,5]\n",
    "sol_1 = resolver_LU(L,U,b_1)"
   ]
  },
  {
   "cell_type": "code",
   "execution_count": 27,
   "id": "e88959c8-eb05-4105-aa5e-23ecbc0fda0d",
   "metadata": {
    "tags": []
   },
   "outputs": [
    {
     "name": "stdout",
     "output_type": "stream",
     "text": [
      "Calculando y\n",
      "y\n",
      "[ 1.  0.  0. -1.]\n",
      "Verificación Ly=b:\n",
      "[ 1.  1.  2. -1.]\n",
      "Calculando x\n",
      "x\n",
      "[1. 1. 1. 1.]\n",
      "Verificación Ux=y:\n",
      "[ 1.  0.  0. -1.]\n"
     ]
    }
   ],
   "source": [
    "%autoreload 2\n",
    "b_2 = [1,1,2,-1]\n",
    "sol_2 = resolver_LU(L,U,b_2)"
   ]
  },
  {
   "cell_type": "markdown",
   "id": "84d2cb9e-c462-4465-b307-b3ec87c71df9",
   "metadata": {},
   "source": [
    "Por tanto, la soluciones obtenidas son: $sol_1 = [3,-6,-2,-1]$ y $sol_2 = [1,1,1,1]$"
   ]
  },
  {
   "cell_type": "markdown",
   "id": "1659a3d9-1474-4eaa-8dd5-9a4018e49dc7",
   "metadata": {},
   "source": [
    "4. Encuentre los valores de A que hacen que la siguiente matriz sea singular"
   ]
  },
  {
   "cell_type": "markdown",
   "id": "8c0dec9b-d014-4c5c-9a44-fd0800777880",
   "metadata": {},
   "source": [
    "\\begin{equation*}\n",
    "    A=\n",
    "    \\begin{bmatrix}\n",
    "        1 & -1 & \\alpha\\\\\n",
    "        2 & 2 & 1\\\\\n",
    "        0 & \\alpha & -\\dfrac{3}{2}\n",
    "    \\end{bmatrix}\n",
    "\\end{equation*}"
   ]
  },
  {
   "cell_type": "markdown",
   "id": "375f73dd-1379-4e98-a503-dd13376699bd",
   "metadata": {},
   "source": [
    "![](ejer_4.jpeg)"
   ]
  },
  {
   "cell_type": "markdown",
   "id": "1de0d35b-db69-4f53-be46-58aee615d6a5",
   "metadata": {},
   "source": [
    "5. Resuelva los siguientes sistemas lineales:"
   ]
  },
  {
   "cell_type": "markdown",
   "id": "055f31f3-10ec-4179-9db8-9576231c7ae7",
   "metadata": {},
   "source": [
    "\\textbf{a. }\n",
    "\\begin{equation*}\n",
    "    \\begin{bmatrix}\n",
    "        1 & 0 & 0 \\\\\n",
    "        2 & 1 & 0\\\\\n",
    "        -1 & 0 & 1\n",
    "    \\end{bmatrix}\n",
    "    \\begin{bmatrix}\n",
    "        2 & 3 & -1\\\\\n",
    "        0 & -2 & 1\\\\\n",
    "        0 & 0 & 3\n",
    "    \\end{bmatrix}\n",
    "    \\begin{bmatrix}\n",
    "        x_1 \\\\\n",
    "        x_2 \\\\\n",
    "        x_3 \n",
    "    \\end{bmatrix} =\n",
    "    \\begin{bmatrix}\n",
    "        2 \\\\\n",
    "        -1 \\\\\n",
    "        1 \n",
    "    \\end{bmatrix}\n",
    "\\end{equation*}"
   ]
  },
  {
   "cell_type": "code",
   "execution_count": 34,
   "id": "cb3770f4-7af5-4f28-bf94-2e0fd8c48a15",
   "metadata": {
    "tags": []
   },
   "outputs": [
    {
     "name": "stdout",
     "output_type": "stream",
     "text": [
      "Calculando y\n",
      "y\n",
      "[ 2. -5.  3.]\n",
      "Verificación Ly=b:\n",
      "[ 2. -1.  1.]\n",
      "Calculando x\n",
      "x\n",
      "[-3.  3.  1.]\n",
      "Verificación Ux=y:\n",
      "[ 2. -5.  3.]\n"
     ]
    }
   ],
   "source": [
    "%autoreload 2\n",
    "L = np.array([[1,0,0],[2,1,0],[-1,0,1]])\n",
    "U = np.array([[2,3,-1],[0,-2,1],[0,0,3]])\n",
    "b = [2,-1,1]\n",
    "resolver_LU(L,U,b)"
   ]
  },
  {
   "cell_type": "markdown",
   "id": "6add9c63-6402-4c73-8e7f-cd86e7e95629",
   "metadata": {},
   "source": [
    "Por tanto, la solución es: \n",
    "\\begin{equation*}\n",
    "    \\begin{bmatrix}\n",
    "        x_1 \\\\\n",
    "        x_2 \\\\\n",
    "        x_3 \n",
    "    \\end{bmatrix} =\n",
    "    \\begin{bmatrix}\n",
    "        -3 \\\\\n",
    "        3 \\\\\n",
    "        1 \n",
    "    \\end{bmatrix}\n",
    "\\end{equation*}"
   ]
  },
  {
   "cell_type": "markdown",
   "id": "fee2df7f-ffad-4db7-9eb1-f4bfaad643b8",
   "metadata": {},
   "source": [
    "\\textbf{b. }\n",
    "\\begin{equation*}\n",
    "    \\begin{bmatrix}\n",
    "        2 & 0 & 0 \\\\\n",
    "        -1 & 1 & 0\\\\\n",
    "        3 & 2 & -1\n",
    "    \\end{bmatrix}\n",
    "    \\begin{bmatrix}\n",
    "        1 & 1 & 1\\\\\n",
    "        0 & 1 & 2\\\\\n",
    "        0 & 0 & 1\n",
    "    \\end{bmatrix}\n",
    "    \\begin{bmatrix}\n",
    "        x_1 \\\\\n",
    "        x_2 \\\\\n",
    "        x_3 \n",
    "    \\end{bmatrix} =\n",
    "    \\begin{bmatrix}\n",
    "        -1 \\\\\n",
    "        3 \\\\\n",
    "        0 \n",
    "    \\end{bmatrix}\n",
    "\\end{equation*}"
   ]
  },
  {
   "cell_type": "code",
   "execution_count": 37,
   "id": "66e69404-a8be-4937-a4e5-e132f124f1ac",
   "metadata": {
    "tags": []
   },
   "outputs": [
    {
     "name": "stdout",
     "output_type": "stream",
     "text": [
      "Calculando y\n",
      "y\n",
      "[-0.5  2.5  3.5]\n",
      "Verificación Ly=b:\n",
      "[-1.  3.  0.]\n",
      "Calculando x\n",
      "x\n",
      "[ 0.5 -4.5  3.5]\n",
      "Verificación Ux=y:\n",
      "[-0.5  2.5  3.5]\n"
     ]
    }
   ],
   "source": [
    "%autoreload 2\n",
    "L = np.array([[2,0,0],[-1,1,0],[3,2,-1]])\n",
    "U = np.array([[1,1,1],[0,1,2],[0,0,1]])\n",
    "b = [-1,3,0]\n",
    "resolver_LU(L,U,b)"
   ]
  },
  {
   "cell_type": "markdown",
   "id": "8744532f-0227-4561-940e-5d362d60c96c",
   "metadata": {
    "tags": []
   },
   "source": [
    "Por tanto, la solución es: \n",
    "\\begin{equation*}\n",
    "    \\begin{bmatrix}\n",
    "        x_1 \\\\\n",
    "        x_2 \\\\\n",
    "        x_3 \n",
    "    \\end{bmatrix} =\n",
    "    \\begin{bmatrix}\n",
    "        0.5 \\\\\n",
    "        -4.5 \\\\\n",
    "        3.5 \n",
    "    \\end{bmatrix}\n",
    "\\end{equation*}"
   ]
  },
  {
   "cell_type": "markdown",
   "id": "dfcf739e-331e-4e70-bdff-44cb507b2d16",
   "metadata": {},
   "source": [
    "6. Factorice las siguientes matrices en la descomposición LU mediante el algoritmo de factorización LU con $l_{ii} = 1$ para todas las i."
   ]
  },
  {
   "cell_type": "markdown",
   "id": "46b8b9d3-c018-4e46-87a2-c6175799b9f1",
   "metadata": {},
   "source": [
    "\\textbf{a. }\n",
    "\\begin{equation*}\n",
    "    \\begin{bmatrix}\n",
    "    2 & -1 & 1\\\\\n",
    "    3 & 3 & 9\\\\\n",
    "    3 & 3 & 5\n",
    "    \\end{bmatrix}\n",
    "\\end{equation*}\n",
    "\n"
   ]
  },
  {
   "cell_type": "code",
   "execution_count": 41,
   "id": "581edeea-a498-4222-80f2-7d0a79f3e2ae",
   "metadata": {
    "tags": []
   },
   "outputs": [
    {
     "name": "stdout",
     "output_type": "stream",
     "text": [
      "Matriz L:\n",
      " [[1.  0.  0. ]\n",
      " [1.5 1.  0. ]\n",
      " [1.5 1.  1. ]]\n",
      "Matriz U:\n",
      " [[ 2.  -1.   1. ]\n",
      " [ 0.   4.5  7.5]\n",
      " [ 0.   0.  -4. ]]\n"
     ]
    }
   ],
   "source": [
    "%autoreload 2\n",
    "A = [[2,-1,1],[3,3,9],[3,3,5]]\n",
    "L,U = descomposicion_LU(A)\n",
    "print(\"Matriz L:\\n\",L)\n",
    "print(\"Matriz U:\\n\",U)"
   ]
  },
  {
   "cell_type": "markdown",
   "id": "ea3e5d2b-6ea4-44ff-9a1e-031dbc0d93fd",
   "metadata": {},
   "source": [
    "\\textbf{b. }\n",
    "\\begin{equation*}\n",
    "    \\begin{bmatrix}\n",
    "    1.012 & -2.132 & 3.104\\\\\n",
    "    -2.132 & 4.096 & -7.013\\\\\n",
    "    3.104 & -7.013 & 0.014\n",
    "    \\end{bmatrix}\n",
    "\\end{equation*}"
   ]
  },
  {
   "cell_type": "code",
   "execution_count": 43,
   "id": "48d82970-8b27-472e-924d-682d8c2c54cb",
   "metadata": {
    "tags": []
   },
   "outputs": [
    {
     "name": "stdout",
     "output_type": "stream",
     "text": [
      "Matriz L:\n",
      " [[ 1.          0.          0.        ]\n",
      " [-2.10671937  1.          0.        ]\n",
      " [ 3.06719368  1.19775553  1.        ]]\n",
      "Matriz U:\n",
      " [[ 1.012      -2.132       3.104     ]\n",
      " [ 0.         -0.39552569 -0.47374308]\n",
      " [ 0.          0.         -8.93914077]]\n"
     ]
    }
   ],
   "source": [
    "%autoreload 2\n",
    "B = [[1.012,-2.132,3.104],[-2.132,4.096,-7.013],[3.104,-7.013,0.014]]\n",
    "L,U = descomposicion_LU(B)\n",
    "print(\"Matriz L:\\n\",L)\n",
    "print(\"Matriz U:\\n\",U)"
   ]
  },
  {
   "cell_type": "markdown",
   "id": "df4cf939-3c40-4dae-b0df-6a71eb250d7d",
   "metadata": {},
   "source": [
    "\\textbf{c. }\n",
    "\\begin{equation*}\n",
    "    \\begin{bmatrix}\n",
    "    2 & 0 & 0 & 0\\\\\n",
    "    1 & 1.5 & 0 & 0\\\\\n",
    "    0 & -3 & 0.5 & 0\\\\\n",
    "    2 & -2 & 1 & 1\n",
    "    \\end{bmatrix}\n",
    "\\end{equation*}"
   ]
  },
  {
   "cell_type": "code",
   "execution_count": 45,
   "id": "ba94521c-59f0-4f47-91aa-8a9a161f2fd4",
   "metadata": {
    "tags": []
   },
   "outputs": [
    {
     "name": "stdout",
     "output_type": "stream",
     "text": [
      "Matriz L:\n",
      " [[ 1.          0.          0.          0.        ]\n",
      " [ 0.5         1.          0.          0.        ]\n",
      " [ 0.         -2.          1.          0.        ]\n",
      " [ 1.         -1.33333333  2.          1.        ]]\n",
      "Matriz U:\n",
      " [[2.  0.  0.  0. ]\n",
      " [0.  1.5 0.  0. ]\n",
      " [0.  0.  0.5 0. ]\n",
      " [0.  0.  0.  1. ]]\n"
     ]
    }
   ],
   "source": [
    "%autoreload 2\n",
    "C = [[2,0,0,0],[1,1.5,0,0],[0,-3,0.5,0],[2,-2,1,1]]\n",
    "L,U = descomposicion_LU(C)\n",
    "print(\"Matriz L:\\n\",L)\n",
    "print(\"Matriz U:\\n\",U)"
   ]
  },
  {
   "cell_type": "markdown",
   "id": "89f11457-08d0-4592-8c2d-929e0e812914",
   "metadata": {},
   "source": [
    "\\textbf{d. }\n",
    "\\begin{equation*}\n",
    "    \\begin{bmatrix}\n",
    "    2.1756 & 4.0231 & -2.1732 & 5.1967\\\\\n",
    "    -4.0231 & 6.0000 & 0 & 1.1973\\\\\n",
    "    -1.0000 & -5.2107 & 1.1111 & 0\\\\\n",
    "    6.0235 & 7.0000 & 0 & -4.1561\n",
    "    \\end{bmatrix}\n",
    "\\end{equation*}"
   ]
  },
  {
   "cell_type": "code",
   "execution_count": 47,
   "id": "4c102a91-6a6d-4b6c-980b-1e5d559d0076",
   "metadata": {
    "tags": []
   },
   "outputs": [
    {
     "name": "stdout",
     "output_type": "stream",
     "text": [
      "Matriz L:\n",
      " [[ 1.          0.          0.          0.        ]\n",
      " [-1.84919103  1.          0.          0.        ]\n",
      " [-0.45964332 -0.25012194  1.          0.        ]\n",
      " [ 2.76866152 -0.30794361 -5.35228302  1.        ]]\n",
      "Matriz U:\n",
      " [[ 2.17560000e+00  4.02310000e+00 -2.17320000e+00  5.19670000e+00]\n",
      " [ 0.00000000e+00  1.34394804e+01 -4.01866194e+00  1.08069910e+01]\n",
      " [ 0.00000000e+00  4.44089210e-16 -8.92952394e-01  5.09169403e+00]\n",
      " [ 0.00000000e+00  0.00000000e+00  0.00000000e+00  1.20361280e+01]]\n"
     ]
    }
   ],
   "source": [
    "%autoreload 2\n",
    "D = [[2.1756,4.0231,-2.1732,5.1967],[-4.0231,6.0000,0,1.1973],\n",
    "     [-1.0000,-5.2107,1.1111,0],[6.0235,7.0000,0,-4.1561]]\n",
    "L,U = descomposicion_LU(D)\n",
    "print(\"Matriz L:\\n\",L)\n",
    "print(\"Matriz U:\\n\",U)"
   ]
  },
  {
   "cell_type": "markdown",
   "id": "e32becf1-7b84-4a86-a55b-b4df3b4c81f6",
   "metadata": {},
   "source": [
    "7. Modifique el algoritmo de eliminación gaussiana de tal forma que se pueda utilizar para resolver un sistema lineal usando la descomposición LU y, a continuación, resuelva los siguientes sistemas lineales."
   ]
  },
  {
   "cell_type": "markdown",
   "id": "c3edc6e7-14aa-497a-a1d3-f63755e558f6",
   "metadata": {},
   "source": [
    "\\textbf{a.} \\begin{eqnarray*} 2x_1-x_2+x_3=-1, \\\\ 3x_1+3x_2+9x_3=0, \\\\ 3x_1+3x_2+5x_3 = 4 \\end{eqnarray*}"
   ]
  },
  {
   "cell_type": "code",
   "execution_count": 50,
   "id": "2604291b-15e1-402e-bffb-ef94fe5d6ef7",
   "metadata": {
    "tags": []
   },
   "outputs": [
    {
     "name": "stdout",
     "output_type": "stream",
     "text": [
      "\n",
      "Matriz L:\n",
      " [[1.  0.  0. ]\n",
      " [1.5 1.  0. ]\n",
      " [1.5 1.  1. ]]\n",
      "\n",
      "Matriz U:\n",
      " [[ 2.  -1.   1. ]\n",
      " [ 0.   4.5  7.5]\n",
      " [ 0.   0.  -4. ]]\n",
      "\n",
      "[[ 1.   0.   0.   1. ]\n",
      " [ 0.   1.   0.  -1.5]\n",
      " [ 1.5  1.   1.   4. ]]\n",
      "\n",
      "[[ 1.   0.   0.   1. ]\n",
      " [ 0.   1.   0.  -1.5]\n",
      " [ 0.   1.   1.   2.5]]\n",
      "\n",
      "[[ 1.   0.   0.   1. ]\n",
      " [ 0.   1.   0.  -1.5]\n",
      " [ 0.   0.   1.   4. ]]\n",
      "\n",
      "Valor de y: [ 1.  -1.5  4. ] \n",
      "\n",
      "[[ 2.  -1.   1.   1. ]\n",
      " [ 0.   4.5  7.5 -1.5]\n",
      " [ 0.   0.  -4.   4. ]]\n",
      "\n",
      "[[ 2.  -1.   1.   1. ]\n",
      " [ 0.   4.5  0.   6. ]\n",
      " [ 0.   0.  -4.   4. ]]\n",
      "\n",
      "[[ 2.  -1.   0.   2. ]\n",
      " [ 0.   4.5  0.   6. ]\n",
      " [ 0.   0.  -4.   4. ]]\n",
      "\n",
      "[[ 2.          0.          0.          3.33333333]\n",
      " [ 0.          4.5         0.          6.        ]\n",
      " [ 0.          0.         -4.          4.        ]]\n",
      "\n",
      "Valor de la solución x: [ 1.6666666  1.3333334 -1.       ]\n"
     ]
    }
   ],
   "source": [
    "%autoreload 2\n",
    "A = [[2,-1,1],[3,3,9],[3,3,5]]\n",
    "b = [1,0,4]\n",
    "L,U = descomposicion_LU(A)\n",
    "print(\"\\nMatriz L:\\n\",L)\n",
    "print(\"\\nMatriz U:\\n\",U)\n",
    "y = eliminacion_gaussiana_L(L,b)\n",
    "print(\"\\nValor de y:\", y,\"\\n\")\n",
    "x = eliminacion_gaussiana_U(U,y)\n",
    "print(\"\\nValor de la solución x:\", x)"
   ]
  },
  {
   "cell_type": "markdown",
   "id": "55ff1993-861e-43cc-a7f4-23f7405a1848",
   "metadata": {},
   "source": [
    "\\textbf{b.} \\begin{eqnarray*} 1.012x_1-2.132x_2+3.104x_3=1.984, \\\\ -2.132x_1+4.096x_2+-7.013x_3=-5.049, \\\\ 3.104x_1-7.013x_2+0.014x_3 = -3.895  \\end{eqnarray*} "
   ]
  },
  {
   "cell_type": "code",
   "execution_count": 52,
   "id": "63cdf079-c4c8-46f2-8fbd-1fad298145ca",
   "metadata": {
    "tags": []
   },
   "outputs": [
    {
     "name": "stdout",
     "output_type": "stream",
     "text": [
      "\n",
      "Matriz L:\n",
      " [[ 1.          0.          0.        ]\n",
      " [-2.10671937  1.          0.        ]\n",
      " [ 3.06719368  1.19775553  1.        ]]\n",
      "\n",
      "Matriz U:\n",
      " [[ 1.012      -2.132       3.104     ]\n",
      " [ 0.         -0.39552569 -0.47374308]\n",
      " [ 0.          0.         -8.93914077]]\n",
      "\n",
      "[[ 1.          0.          0.          1.984     ]\n",
      " [ 0.          1.          0.         -0.86926877]\n",
      " [ 3.06719368  1.19775553  1.         -3.895     ]]\n",
      "\n",
      "[[ 1.          0.          0.          1.984     ]\n",
      " [ 0.          1.          0.         -0.86926877]\n",
      " [ 0.          1.19775553  1.         -9.98031225]]\n",
      "\n",
      "[[ 1.          0.          0.          1.984     ]\n",
      " [ 0.          1.          0.         -0.86926877]\n",
      " [ 0.          0.          1.         -8.93914077]]\n",
      "\n",
      "Valor de y: [ 1.984     -0.8692688 -8.93914  ] \n",
      "\n",
      "[[ 1.012      -2.132       3.104       1.98399997]\n",
      " [ 0.         -0.39552569 -0.47374308 -0.86926877]\n",
      " [ 0.          0.         -8.93914077 -8.93914032]]\n",
      "\n",
      "[[ 1.012      -2.132       3.104       1.98399997]\n",
      " [ 0.         -0.39552569  0.         -0.39552572]\n",
      " [ 0.          0.         -8.93914077 -8.93914032]]\n",
      "\n",
      "[[ 1.012      -2.132       0.         -1.11999987]\n",
      " [ 0.         -0.39552569  0.         -0.39552572]\n",
      " [ 0.          0.         -8.93914077 -8.93914032]]\n",
      "\n",
      "[[ 1.012       0.          0.          1.01200026]\n",
      " [ 0.         -0.39552569  0.         -0.39552572]\n",
      " [ 0.          0.         -8.93914077 -8.93914032]]\n",
      "\n",
      "Valor de la solución x: [1.0000002  1.0000001  0.99999994]\n"
     ]
    }
   ],
   "source": [
    "%autoreload 2\n",
    "A = [[1.012,-2.132,3.104],[-2.132,4.096,-7.013],[3.104,-7.013,0.014]]\n",
    "b = [1.984,-5.049,-3.895]\n",
    "L,U = descomposicion_LU(A)\n",
    "print(\"\\nMatriz L:\\n\",L)\n",
    "print(\"\\nMatriz U:\\n\",U)\n",
    "y = eliminacion_gaussiana_L(L,b)\n",
    "print(\"\\nValor de y:\", y,\"\\n\")\n",
    "x = eliminacion_gaussiana_U(U,y)\n",
    "print(\"\\nValor de la solución x:\", x)"
   ]
  },
  {
   "cell_type": "markdown",
   "id": "8d1e5f4f-afac-447e-ae47-f7f1e3cfefa4",
   "metadata": {},
   "source": [
    "\\textbf{c.} \\begin{eqnarray*} 2x_1 \\hspace{3.6cm} = 3, \\\\ x_1+1.5x_2\\hspace{2.3cm}=4.5, \\\\ \\hspace{1cm}-3x_2+0.5x_3 \\hspace{0.7cm} = -6.6, \\\\ 2x_1-2x_2+\\hspace{0.5cm}x_3+x_4 = 0.8\\end{eqnarray*} "
   ]
  },
  {
   "cell_type": "code",
   "execution_count": 54,
   "id": "d05046ee-8b02-43ec-859a-76430116af07",
   "metadata": {
    "tags": []
   },
   "outputs": [
    {
     "name": "stdout",
     "output_type": "stream",
     "text": [
      "\n",
      "Matriz L:\n",
      " [[ 1.          0.          0.          0.        ]\n",
      " [ 0.5         1.          0.          0.        ]\n",
      " [ 0.         -2.          1.          0.        ]\n",
      " [ 1.         -1.33333333  2.          1.        ]]\n",
      "\n",
      "Matriz U:\n",
      " [[2.  0.  0.  0. ]\n",
      " [0.  1.5 0.  0. ]\n",
      " [0.  0.  0.5 0. ]\n",
      " [0.  0.  0.  1. ]]\n",
      "\n",
      "[[ 1.          0.          0.          0.          3.        ]\n",
      " [ 0.          1.          0.          0.          3.        ]\n",
      " [ 0.         -2.          1.          0.         -6.6       ]\n",
      " [ 1.         -1.33333333  2.          1.          0.8       ]]\n",
      "\n",
      "[[ 1.          0.          0.          0.          3.        ]\n",
      " [ 0.          1.          0.          0.          3.        ]\n",
      " [ 0.         -2.          1.          0.         -6.6       ]\n",
      " [ 1.         -1.33333333  2.          1.          0.8       ]]\n",
      "\n",
      "[[ 1.          0.          0.          0.          3.        ]\n",
      " [ 0.          1.          0.          0.          3.        ]\n",
      " [ 0.         -2.          1.          0.         -6.6       ]\n",
      " [ 0.         -1.33333333  2.          1.         -2.2       ]]\n",
      "\n",
      "[[ 1.          0.          0.          0.          3.        ]\n",
      " [ 0.          1.          0.          0.          3.        ]\n",
      " [ 0.          0.          1.          0.         -0.6       ]\n",
      " [ 0.         -1.33333333  2.          1.         -2.2       ]]\n",
      "\n",
      "[[ 1.   0.   0.   0.   3. ]\n",
      " [ 0.   1.   0.   0.   3. ]\n",
      " [ 0.   0.   1.   0.  -0.6]\n",
      " [ 0.   0.   2.   1.   1.8]]\n",
      "\n",
      "[[ 1.   0.   0.   0.   3. ]\n",
      " [ 0.   1.   0.   0.   3. ]\n",
      " [ 0.   0.   1.   0.  -0.6]\n",
      " [ 0.   0.   0.   1.   3. ]]\n",
      "\n",
      "Valor de y: [ 3.   3.  -0.6  3. ] \n",
      "\n",
      "[[ 2.          0.          0.          0.          3.        ]\n",
      " [ 0.          1.5         0.          0.          3.        ]\n",
      " [ 0.          0.          0.5         0.         -0.60000002]\n",
      " [ 0.          0.          0.          1.          3.        ]]\n",
      "\n",
      "[[ 2.          0.          0.          0.          3.        ]\n",
      " [ 0.          1.5         0.          0.          3.        ]\n",
      " [ 0.          0.          0.5         0.         -0.60000002]\n",
      " [ 0.          0.          0.          1.          3.        ]]\n",
      "\n",
      "[[ 2.          0.          0.          0.          3.        ]\n",
      " [ 0.          1.5         0.          0.          3.        ]\n",
      " [ 0.          0.          0.5         0.         -0.60000002]\n",
      " [ 0.          0.          0.          1.          3.        ]]\n",
      "\n",
      "[[ 2.          0.          0.          0.          3.        ]\n",
      " [ 0.          1.5         0.          0.          3.        ]\n",
      " [ 0.          0.          0.5         0.         -0.60000002]\n",
      " [ 0.          0.          0.          1.          3.        ]]\n",
      "\n",
      "[[ 2.          0.          0.          0.          3.        ]\n",
      " [ 0.          1.5         0.          0.          3.        ]\n",
      " [ 0.          0.          0.5         0.         -0.60000002]\n",
      " [ 0.          0.          0.          1.          3.        ]]\n",
      "\n",
      "[[ 2.          0.          0.          0.          3.        ]\n",
      " [ 0.          1.5         0.          0.          3.        ]\n",
      " [ 0.          0.          0.5         0.         -0.60000002]\n",
      " [ 0.          0.          0.          1.          3.        ]]\n",
      "\n",
      "[[ 2.          0.          0.          0.          3.        ]\n",
      " [ 0.          1.5         0.          0.          3.        ]\n",
      " [ 0.          0.          0.5         0.         -0.60000002]\n",
      " [ 0.          0.          0.          1.          3.        ]]\n",
      "\n",
      "Valor de la solución x: [ 1.5  2.  -1.2  3. ]\n"
     ]
    }
   ],
   "source": [
    "%autoreload 2\n",
    "A = [[2,0,0,0],[1,1.5,0,0],[0,-3,0.5,0],[2,-2,1,1]]\n",
    "b = [3,4.5,-6.6,0.8]\n",
    "L,U = descomposicion_LU(A)\n",
    "print(\"\\nMatriz L:\\n\",L)\n",
    "print(\"\\nMatriz U:\\n\",U)\n",
    "y = eliminacion_gaussiana_L(L,b)\n",
    "print(\"\\nValor de y:\", y,\"\\n\")\n",
    "x = eliminacion_gaussiana_U(U,y)\n",
    "print(\"\\nValor de la solución x:\", x)"
   ]
  },
  {
   "cell_type": "markdown",
   "id": "928aa0a1-f8bf-4e47-ae19-6c74c27b70e8",
   "metadata": {},
   "source": [
    "\\textbf{d.} \\begin{eqnarray*} 2.1756x_1+4.0231x_2-2.1732x_3+5.1967x_4=17.102, \\\\ -4.0231x_1+6.0000x_2\\hspace{1cm}+1.1973x_4=-6.1593, \\\\ -1.0000x_1-5.2107x_2+1.1111x_3 \\hspace{1cm} = 3.0004, \\\\ 6.0235x_1+7.0000x_2+\\hspace{1cm}-4.1561x_4 = 0.0000\\end{eqnarray*}  $"
   ]
  },
  {
   "cell_type": "code",
   "execution_count": 56,
   "id": "6f300037-c139-43a9-8986-52fecf756eb2",
   "metadata": {
    "tags": []
   },
   "outputs": [
    {
     "name": "stdout",
     "output_type": "stream",
     "text": [
      "\n",
      "Matriz L:\n",
      " [[ 1.          0.          0.          0.        ]\n",
      " [-1.84919103  1.          0.          0.        ]\n",
      " [-0.45964332 -0.25012194  1.          0.        ]\n",
      " [ 2.76866152 -0.30794361 -5.35228302  1.        ]]\n",
      "\n",
      "Matriz U:\n",
      " [[ 2.17560000e+00  4.02310000e+00 -2.17320000e+00  5.19670000e+00]\n",
      " [ 0.00000000e+00  1.34394804e+01 -4.01866194e+00  1.08069910e+01]\n",
      " [ 0.00000000e+00  4.44089210e-16 -8.92952394e-01  5.09169403e+00]\n",
      " [ 0.00000000e+00  0.00000000e+00  0.00000000e+00  1.20361280e+01]]\n",
      "\n",
      "[[ 1.          0.          0.          0.         17.102     ]\n",
      " [ 0.          1.          0.          0.         25.46556496]\n",
      " [-0.45964332 -0.25012194  1.          0.          3.0004    ]\n",
      " [ 2.76866152 -0.30794361 -5.35228302  1.          0.        ]]\n",
      "\n",
      "[[ 1.          0.          0.          0.         17.102     ]\n",
      " [ 0.          1.          0.          0.         25.46556496]\n",
      " [ 0.         -0.25012194  1.          0.         10.86122   ]\n",
      " [ 2.76866152 -0.30794361 -5.35228302  1.          0.        ]]\n",
      "\n",
      "[[  1.           0.           0.           0.          17.102     ]\n",
      " [  0.           1.           0.           0.          25.46556496]\n",
      " [  0.          -0.25012194   1.           0.          10.86122   ]\n",
      " [  0.          -0.30794361  -5.35228302   1.         -47.34964929]]\n",
      "\n",
      "[[  1.           0.           0.           0.          17.102     ]\n",
      " [  0.           1.           0.           0.          25.46556496]\n",
      " [  0.           0.           1.           0.          17.23071662]\n",
      " [  0.          -0.30794361  -5.35228302   1.         -47.34964929]]\n",
      "\n",
      "[[  1.           0.           0.           0.          17.102     ]\n",
      " [  0.           1.           0.           0.          25.46556496]\n",
      " [  0.           0.           1.           0.          17.23071662]\n",
      " [  0.           0.          -5.35228302   1.         -39.50769122]]\n",
      "\n",
      "[[ 1.          0.          0.          0.         17.102     ]\n",
      " [ 0.          1.          0.          0.         25.46556496]\n",
      " [ 0.          0.          1.          0.         17.23071662]\n",
      " [ 0.          0.          0.          1.         52.71598078]]\n",
      "\n",
      "Valor de y: [17.102    25.465565 17.230717 52.71598 ] \n",
      "\n",
      "[[ 2.17560000e+00  4.02310000e+00 -2.17320000e+00  5.19670000e+00\n",
      "   1.71019993e+01]\n",
      " [ 0.00000000e+00  1.34394804e+01 -4.01866194e+00  1.08069910e+01\n",
      "   2.54655647e+01]\n",
      " [ 0.00000000e+00  4.44089210e-16 -8.92952394e-01  5.09169403e+00\n",
      "   1.72307167e+01]\n",
      " [ 0.00000000e+00  0.00000000e+00  0.00000000e+00  1.20361280e+01\n",
      "   5.27159805e+01]]\n",
      "\n",
      "[[ 2.17560000e+00  4.02310000e+00 -2.17320000e+00  5.19670000e+00\n",
      "   1.71019993e+01]\n",
      " [ 0.00000000e+00  1.34394804e+01 -4.01866194e+00  1.08069910e+01\n",
      "   2.54655647e+01]\n",
      " [ 0.00000000e+00  4.44089210e-16 -8.92952394e-01  0.00000000e+00\n",
      "  -5.06994697e+00]\n",
      " [ 0.00000000e+00  0.00000000e+00  0.00000000e+00  1.20361280e+01\n",
      "   5.27159805e+01]]\n",
      "\n",
      "[[ 2.17560000e+00  4.02310000e+00 -2.17320000e+00  5.19670000e+00\n",
      "   1.71019993e+01]\n",
      " [ 0.00000000e+00  1.34394804e+01 -4.01866194e+00  0.00000000e+00\n",
      "  -2.18670265e+01]\n",
      " [ 0.00000000e+00  4.44089210e-16 -8.92952394e-01  0.00000000e+00\n",
      "  -5.06994697e+00]\n",
      " [ 0.00000000e+00  0.00000000e+00  0.00000000e+00  1.20361280e+01\n",
      "   5.27159805e+01]]\n",
      "\n",
      "[[ 2.17560000e+00  4.02310000e+00 -2.17320000e+00  0.00000000e+00\n",
      "  -5.65857084e+00]\n",
      " [ 0.00000000e+00  1.34394804e+01 -4.01866194e+00  0.00000000e+00\n",
      "  -2.18670265e+01]\n",
      " [ 0.00000000e+00  4.44089210e-16 -8.92952394e-01  0.00000000e+00\n",
      "  -5.06994697e+00]\n",
      " [ 0.00000000e+00  0.00000000e+00  0.00000000e+00  1.20361280e+01\n",
      "   5.27159805e+01]]\n",
      "\n",
      "[[ 2.17560000e+00  4.02310000e+00 -2.17320000e+00  0.00000000e+00\n",
      "  -5.65857084e+00]\n",
      " [ 0.00000000e+00  1.34394804e+01  0.00000000e+00  0.00000000e+00\n",
      "   9.49870688e-01]\n",
      " [ 0.00000000e+00  4.44089210e-16 -8.92952394e-01  0.00000000e+00\n",
      "  -5.06994697e+00]\n",
      " [ 0.00000000e+00  0.00000000e+00  0.00000000e+00  1.20361280e+01\n",
      "   5.27159805e+01]]\n",
      "\n",
      "[[ 2.17560000e+00  4.02310000e+00  0.00000000e+00  0.00000000e+00\n",
      "   6.68028266e+00]\n",
      " [ 0.00000000e+00  1.34394804e+01  0.00000000e+00  0.00000000e+00\n",
      "   9.49870688e-01]\n",
      " [ 0.00000000e+00  4.44089210e-16 -8.92952394e-01  0.00000000e+00\n",
      "  -5.06994697e+00]\n",
      " [ 0.00000000e+00  0.00000000e+00  0.00000000e+00  1.20361280e+01\n",
      "   5.27159805e+01]]\n",
      "\n",
      "[[ 2.17560000e+00  0.00000000e+00  0.00000000e+00  0.00000000e+00\n",
      "   6.39593946e+00]\n",
      " [ 0.00000000e+00  1.34394804e+01  0.00000000e+00  0.00000000e+00\n",
      "   9.49870688e-01]\n",
      " [ 0.00000000e+00  4.44089210e-16 -8.92952394e-01  0.00000000e+00\n",
      "  -5.06994697e+00]\n",
      " [ 0.00000000e+00  0.00000000e+00  0.00000000e+00  1.20361280e+01\n",
      "   5.27159805e+01]]\n",
      "\n",
      "Valor de la solución x: [2.9398508  0.07067764 5.677735   4.3798122 ]\n"
     ]
    }
   ],
   "source": [
    "%autoreload 2\n",
    "A = [[2.1756,4.0231,-2.1732,5.1967],[-4.0231,6.0000,0,1.1973],[-1,-5.2107,1.1111,0],[6.0235,7.0000,0,-4.1561]]\n",
    "b = [17.102,-6.1593,3.0004,0.0000]\n",
    "L,U = descomposicion_LU(A)\n",
    "print(\"\\nMatriz L:\\n\",L)\n",
    "print(\"\\nMatriz U:\\n\",U)\n",
    "y = eliminacion_gaussiana_L(L,b)\n",
    "print(\"\\nValor de y:\", y,\"\\n\")\n",
    "x = eliminacion_gaussiana_U(U,y)\n",
    "print(\"\\nValor de la solución x:\", x)"
   ]
  },
  {
   "cell_type": "markdown",
   "id": "a24f75be-7b9b-48dd-b8e2-2a44b7d14465",
   "metadata": {},
   "source": [
    "## Link del repositorio:"
   ]
  },
  {
   "cell_type": "markdown",
   "id": "731c8658-3cd7-4d59-98c2-1f476f053833",
   "metadata": {},
   "source": [
    "https://github.com/MarckHA/Tarea_10-Descomposicion-LU.git"
   ]
  },
  {
   "cell_type": "code",
   "execution_count": null,
   "id": "0df08dfc-c554-4142-90bc-5f18f264a176",
   "metadata": {},
   "outputs": [],
   "source": []
  }
 ],
 "metadata": {
  "kernelspec": {
   "display_name": "Python 3 (ipykernel)",
   "language": "python",
   "name": "python3"
  },
  "language_info": {
   "codemirror_mode": {
    "name": "ipython",
    "version": 3
   },
   "file_extension": ".py",
   "mimetype": "text/x-python",
   "name": "python",
   "nbconvert_exporter": "python",
   "pygments_lexer": "ipython3",
   "version": "3.11.7"
  }
 },
 "nbformat": 4,
 "nbformat_minor": 5
}
